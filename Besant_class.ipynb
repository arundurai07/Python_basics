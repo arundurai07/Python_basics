{
 "cells": [
  {
   "cell_type": "markdown",
   "metadata": {},
   "source": [
    "# class 3 "
   ]
  },
  {
   "cell_type": "code",
   "execution_count": null,
   "metadata": {},
   "outputs": [],
   "source": [
    " # syntax is a structure for programming\n",
    " # Variable is nothing but a container\n",
    "print(\"Arun\",\"Kumar\", sep=\"$\")\n",
    "print(\"Arun\", end=\"$\")\n",
    "print(\"Kumar\")\n"
   ]
  },
  {
   "cell_type": "markdown",
   "metadata": {},
   "source": [
    "# Class 4 \n",
    "# Data types\n"
   ]
  },
  {
   "cell_type": "code",
   "execution_count": null,
   "metadata": {},
   "outputs": [],
   "source": [
    "a = 3.14\n",
    "print(type(a)) # data type of a is shown in the result\n",
    "                #int is a whole number \n",
    "\n",
    "b= 3+5j\n",
    "print(type(b)) # complex data type\n",
    "\n",
    "e = 4\n",
    "f = 9\n",
    "print(type(e<f)) # true or false is a boolean data type\n",
    "# types of case - upper,lower case, proper case \"True\"\n",
    "\n",
    "z=True\n",
    "print(type(z))\n",
    "\n",
    "d = \"False\"\n",
    "print(type(d)) # anything that comes under\"\" or '' is a string\n",
    "\n",
    "# type casting --> changing from one data type to another data type\n",
    "# change 12.78 into whole data type\n",
    "\n",
    "u = 12.78\n",
    "x = round(u)\n",
    "print(x)\n",
    "\n",
    "o = 23\n",
    "p= complex(o)\n",
    "print(p)\n",
    "# real and imaginary is said to be complex number\n",
    "\n",
    "\n",
    "\n"
   ]
  },
  {
   "cell_type": "markdown",
   "metadata": {},
   "source": [
    "# Type casting\n"
   ]
  },
  {
   "cell_type": "code",
   "execution_count": null,
   "metadata": {},
   "outputs": [],
   "source": [
    "# converting from one data type to another is type casting\n",
    "\n",
    "a = 12.68 # a is a float datatype\n",
    "b = int(a) # converting it to int datatype is known as type casting\n",
    "print(b)\n"
   ]
  },
  {
   "cell_type": "markdown",
   "metadata": {},
   "source": [
    "# Input function"
   ]
  },
  {
   "cell_type": "code",
   "execution_count": null,
   "metadata": {},
   "outputs": [],
   "source": [
    "a = int(input(\"Enter the value for A: \"))\n",
    "b = int(input(\"Enter the value for B: \"))\n",
    "c = a+b\n",
    "print(\"The addition value of A and B is \",c) "
   ]
  },
  {
   "cell_type": "markdown",
   "metadata": {},
   "source": [
    "# formatted string"
   ]
  },
  {
   "cell_type": "code",
   "execution_count": null,
   "metadata": {},
   "outputs": [],
   "source": [
    "a = int(input(\"Enter the value of A: \"))\n",
    "b = int(input(\"Enter the value of B: \"))\n",
    "c = a+b\n",
    "d = a*b\n",
    "e = a-b\n",
    "print(f\"The addition value of {a} and {b} is {c}\")\n",
    "print(f\"The addition value of {a} and {b} is {d}\")\n",
    "print(f\"The addition value of {a} and {b} is {e}\")"
   ]
  },
  {
   "cell_type": "markdown",
   "metadata": {},
   "source": [
    "# Class 5\n",
    "# Operators\n",
    "# Arithmetic operators"
   ]
  },
  {
   "cell_type": "code",
   "execution_count": null,
   "metadata": {},
   "outputs": [],
   "source": [
    "''' + add,- sub, * mul, / div, // floor div, % mod, ** exp ---> Arithmetic operators\n",
    "<,>, ==, !=, <=, >= ---> Relational or comparison operators\n",
    "=, +=, -=, *=, /=, ---> Assignment operators\n",
    "\n",
    "'''\n",
    "print(13//5) # --> gives the quotient value as output\n",
    "print(13%5) # --> gives the reminder value as output\n",
    "\n",
    "print (3**2)\n",
    "\n"
   ]
  },
  {
   "cell_type": "markdown",
   "metadata": {},
   "source": [
    "# Relational Operators"
   ]
  },
  {
   "cell_type": "code",
   "execution_count": null,
   "metadata": {},
   "outputs": [],
   "source": [
    "a= 10\n",
    "b= 4\n",
    "print(a<b)\n",
    "print(a>b)\n",
    "print(a!=b)\n",
    "print(a==b)"
   ]
  },
  {
   "cell_type": "markdown",
   "metadata": {},
   "source": [
    "# Logical or Boolean Operator"
   ]
  },
  {
   "cell_type": "code",
   "execution_count": null,
   "metadata": {},
   "outputs": [],
   "source": [
    "a = 10\n",
    "b = 5\n",
    "c = 7\n",
    "d = 5\n",
    "print ((a<b) and (c>d))\n",
    "print(not(True and False))"
   ]
  },
  {
   "cell_type": "markdown",
   "metadata": {},
   "source": [
    "# BMI Cal -- Task for Class 5\n",
    "# Cal BMI \n"
   ]
  },
  {
   "cell_type": "code",
   "execution_count": null,
   "metadata": {},
   "outputs": [],
   "source": [
    "name = input(\"Enter your name: \")\n",
    "weight = float(input(\"Enter the weight(KG) = \"))\n",
    "height = float(input(\"Enter the height(M) = \"))\n",
    "\n",
    "BMI = round(weight / (height ** 2))\n",
    "\n",
    "if BMI <= 18.5:\n",
    "    print(f\"Hi {name}, your weight is {weight} and your height is {height}, Your BMI is {BMI}, hence your Underweight.\")\n",
    "elif 18.5 < BMI <= 24.9:\n",
    "    print(f\"Hi {name}, your weight is {weight} and your height is {height}, Your BMI is {BMI}, hence your Healthy.\")\n",
    "elif 25 <= BMI <= 29.9:\n",
    "    print(f\"Hi {name}, your weight is {weight} and your height is {height}, Your BMI is {BMI}, hence your Overweight.\")\n",
    "else:\n",
    "    print(f\"Hi {name}, your weight is {weight} and your height is {height}, Your BMI is {BMI} , hence your Obese.\")"
   ]
  },
  {
   "cell_type": "markdown",
   "metadata": {},
   "source": [
    "# Assignment operator"
   ]
  },
  {
   "cell_type": "code",
   "execution_count": null,
   "metadata": {},
   "outputs": [],
   "source": [
    "a = 80\n",
    "a += 4\n",
    "print(a)\n",
    "# BODMAS rule\n",
    "a -= 9\n",
    "print(a)"
   ]
  },
  {
   "cell_type": "markdown",
   "metadata": {},
   "source": [
    "# Identity Operator"
   ]
  },
  {
   "cell_type": "code",
   "execution_count": null,
   "metadata": {},
   "outputs": [],
   "source": [
    "# A is called differently in home as B and in school called as A itself. Like a nick name\n",
    "# Hence address in python may vary but their value is same\n",
    "\n",
    "\n",
    "a = 346\n",
    "b = 346\n",
    "print(a is b)\n",
    "print(id(a))\n",
    "print(id(b)) # the address of a and b are different, where 0--255 memory address are there\n",
    "# if you type in a = 1 and b = 1 result would be true as they are present in same address"
   ]
  },
  {
   "cell_type": "markdown",
   "metadata": {},
   "source": [
    "# Membership operator"
   ]
  },
  {
   "cell_type": "code",
   "execution_count": null,
   "metadata": {},
   "outputs": [],
   "source": [
    "a = [1,2,3,4,5]\n",
    "b = [1,2,3,4,5]\n",
    "a = b\n",
    "print(a is b)\n",
    "print (id(a))\n",
    "print (id(b))\n",
    "\n",
    "q = \"Hello\"\n",
    "print(\"H\" in q)"
   ]
  },
  {
   "cell_type": "markdown",
   "metadata": {},
   "source": [
    "## IF elif else"
   ]
  },
  {
   "cell_type": "code",
   "execution_count": null,
   "metadata": {},
   "outputs": [],
   "source": [
    "a = int(input(\"Enter a value for a = \"))\n",
    "b = int(input(\"Enter a value for b = \"))\n",
    "\n",
    "if a>b:\n",
    "    print(\"a is greater\")\n",
    "elif a<b:\n",
    "    print(\"b is greater\")\n",
    "else:\n",
    "    print(\"both a and b are equal\")\n",
    "    "
   ]
  },
  {
   "cell_type": "markdown",
   "metadata": {},
   "source": [
    "# Task for the day\n",
    "Create a program that can tell you if a number is even or odd\n",
    "\n"
   ]
  },
  {
   "cell_type": "code",
   "execution_count": null,
   "metadata": {},
   "outputs": [],
   "source": [
    "a = int(input(\"Enter a number\"))\n",
    "\n",
    "if a % 2 == 0:\n",
    "    print(f\"{a} is a even number\")\n",
    "else:\n",
    "    print(f\"{a} is an odd number\")"
   ]
  },
  {
   "cell_type": "code",
   "execution_count": null,
   "metadata": {},
   "outputs": [],
   "source": [
    "# Leap year calculation\n",
    "\n",
    "year = int(input(\"Enter the year\"))\n",
    "\n",
    "if (year % 4 == 0 and year % 100 != 0) or year % 400 == 0:\n",
    "    print(f\"{year} year is a leap year\")\n",
    "else:\n",
    "    print(f\"{year} year is not a leap year\")\n",
    "    "
   ]
  },
  {
   "cell_type": "code",
   "execution_count": null,
   "metadata": {},
   "outputs": [],
   "source": [
    "# a,b which is greater\n",
    "\n",
    "num1 = int(input(\"Enter value for a: \"))\n",
    "num2 = int(input(\"Enter value for b: \"))\n",
    "\n",
    "if num1>num2:\n",
    "    print(f\"{num1} is greater than {num2} \")\n",
    "elif num2>num1:\n",
    "    print(f\"{num2} is greater than {num1}\")\n",
    "    \n",
    "else:\n",
    "    print(f\"{num1} is equal to {num2}\")\n",
    "\n",
    "\n",
    "\n"
   ]
  },
  {
   "cell_type": "code",
   "execution_count": null,
   "metadata": {},
   "outputs": [],
   "source": [
    "# Task a,b,c which is greater\n",
    "\n",
    "num1 = int(input(\"Enter value for a: \"))\n",
    "num2 = int(input(\"Enter value for b: \"))\n",
    "num3 = int(input(\"Enter value for c: \"))\n",
    "\n",
    "if num1>=num2 and num1 >= num3:\n",
    "    print(f\"{num1} is greater than {num2} and {num3} \")\n",
    "elif num2>=num1 and num2>= num3:\n",
    "    print(f\"{num2} is greater than {num1} and {num3}\")\n",
    "    \n",
    "else:\n",
    "    print(f\"{num3} is greater than {num1} and {num2}\")"
   ]
  },
  {
   "cell_type": "code",
   "execution_count": null,
   "metadata": {},
   "outputs": [],
   "source": [
    "# Test\n",
    "\n",
    "\"\"\"\n",
    "Get input of details of a student\n",
    "Input = \"Enter the number of students: \"\n",
    "Fetch details such as \n",
    "\t1. Name\n",
    "\t2. Marks scored in Tamil\n",
    "\t3. Marks scored in English\n",
    "\t4. Marks scored in Maths\n",
    "\t5. Marks scored in Science\n",
    "\t6. Marks scored in Social\n",
    "Calculate the total marks, Percentage and pass/fail result\n",
    "Create a file containing these info and save it as a file\n",
    "\n",
    "\"\"\""
   ]
  },
  {
   "cell_type": "code",
   "execution_count": null,
   "metadata": {},
   "outputs": [],
   "source": [
    "a = [1,2,3,4,5,-1,-2,-3,-4,-5]\n",
    "\n",
    "index = 0\n",
    "\n",
    "while index<len(a):\n",
    "    if a[index] > 0:\n",
    "        print (f\"{a[index]} is a positive no\")   \n",
    "    else:\n",
    "        print (f\"{a[index]} is a negative no\")\n",
    "        index += 1\n",
    "        \n"
   ]
  },
  {
   "cell_type": "markdown",
   "metadata": {},
   "source": [
    "# Task find product of list"
   ]
  },
  {
   "cell_type": "code",
   "execution_count": null,
   "metadata": {},
   "outputs": [],
   "source": [
    "a = [1,2,3,4,5]\n",
    "\n",
    "index = 0\n",
    "\n",
    "product = 1\n",
    "\n",
    "while index < len(a):\n",
    "    product *= a[index]\n",
    "    print(product, end = \",\")\n",
    "    index += 1\n",
    "    \n",
    "    \n",
    "    "
   ]
  },
  {
   "cell_type": "code",
   "execution_count": null,
   "metadata": {},
   "outputs": [],
   "source": [
    "product = 1\n",
    "\n",
    "for i in range(1,11):\n",
    "    product *= i\n",
    "    print(i,\"-->\", product)\n",
    "    \n",
    "    \n",
    "\n"
   ]
  },
  {
   "cell_type": "markdown",
   "metadata": {},
   "source": [
    "# Control Statements"
   ]
  },
  {
   "cell_type": "code",
   "execution_count": null,
   "metadata": {},
   "outputs": [],
   "source": [
    "''' Break statements -- used for for and while loop conditions\n",
    "\n",
    "'''\n",
    "\n",
    "\n",
    "m = list(range(1,9))\n",
    "\n",
    "\n",
    "i = 0\n",
    "while i<len(m):\n",
    "    if m[i] % 2 == 0:\n",
    "        break\n",
    "    print(m[i])\n",
    "    i +=1\n",
    "    \n",
    "      \n",
    "        "
   ]
  },
  {
   "cell_type": "code",
   "execution_count": null,
   "metadata": {},
   "outputs": [],
   "source": [
    "''' Break statements -- used for for and while loop conditions\n",
    "\n",
    "    using 'for condition'\n",
    "'''\n",
    "\n",
    "q = list(range(1,10))\n",
    "e = 0 \n",
    "for e in q:\n",
    "    if q[e] %4 == 0:\n",
    "        break\n",
    "    print (q[e]) \n",
    "    e +=0 "
   ]
  },
  {
   "cell_type": "markdown",
   "metadata": {},
   "source": [
    "# continue statement"
   ]
  },
  {
   "cell_type": "code",
   "execution_count": null,
   "metadata": {},
   "outputs": [],
   "source": [
    "list1 = [23,65,20,87,96]\n",
    "\n",
    "for i in list1:\n",
    "    if i % 2 != 0:\n",
    "        continue\n",
    "    print(i)"
   ]
  },
  {
   "cell_type": "code",
   "execution_count": null,
   "metadata": {},
   "outputs": [],
   "source": [
    "list2 = [91,90,65,97,22,10]\n",
    "\n",
    "x = 0\n",
    "\n",
    "while x < len(list2):\n",
    "    if list2[x] % 2 == 0:\n",
    "        continue\n",
    "    print(list2[x])\n",
    "    x += 1"
   ]
  },
  {
   "cell_type": "markdown",
   "metadata": {},
   "source": [
    "### Built in function"
   ]
  },
  {
   "cell_type": "code",
   "execution_count": null,
   "metadata": {},
   "outputs": [],
   "source": [
    "'''Python build in functions\n",
    "link - https://docs.python.org/3/library/functions.html'''\n",
    "\n"
   ]
  },
  {
   "cell_type": "markdown",
   "metadata": {},
   "source": [
    "## User defined functions"
   ]
  },
  {
   "cell_type": "code",
   "execution_count": null,
   "metadata": {},
   "outputs": [],
   "source": [
    "def intro():\n",
    "    print(\"Welcome to py world!!!\")\n",
    "    \n",
    "intro()"
   ]
  },
  {
   "cell_type": "markdown",
   "metadata": {},
   "source": [
    "### User defined functions with arguments"
   ]
  },
  {
   "cell_type": "code",
   "execution_count": null,
   "metadata": {},
   "outputs": [],
   "source": [
    "def sum(a,b):   # a and b are arguments in user defined function sum\n",
    "    print(a+b)\n",
    "    \n",
    "sum(5,4)    "
   ]
  },
  {
   "cell_type": "markdown",
   "metadata": {},
   "source": [
    "### Create a function to find area and perimeter of a square"
   ]
  },
  {
   "cell_type": "code",
   "execution_count": null,
   "metadata": {},
   "outputs": [],
   "source": [
    "def area(a):\n",
    "   \n",
    "    area = a*a\n",
    "    print(f\"The area of square is {area}.\")\n",
    "    \n",
    "def perimeter(a):\n",
    "   \n",
    "    perimeter = 4*a\n",
    "    print(f\"The perimeter of square is {perimeter}.\")\n",
    "    \n",
    "perimeter(4)"
   ]
  },
  {
   "cell_type": "code",
   "execution_count": null,
   "metadata": {},
   "outputs": [],
   "source": [
    "area(9)"
   ]
  },
  {
   "cell_type": "markdown",
   "metadata": {},
   "source": [
    "### HCM and LCM\n",
    "\n"
   ]
  },
  {
   "cell_type": "code",
   "execution_count": null,
   "metadata": {},
   "outputs": [],
   "source": [
    "a = int(input(\"Enter the value1 for hcm cal: \"))\n",
    "b = int(input(\"Enter the value2 for hcm cal: \"))\n",
    "\n",
    "def HCM(a,b):\n",
    "    for i in range(1,min(a,b)+1):\n",
    "        if (a%i == 0) and (b%i == 0):\n",
    "            HCM = 1\n",
    "    return(HCM)\n",
    "\n",
    "def LCM(a,b,HCM):\n",
    "    LCM = (a*b)/HCM\n",
    "    return(LCM)\n",
    "\n",
    "print(HCM(a,b))\n",
    "print(LCM(a,b,HCM(a,b)))\n",
    "\n",
    "\n"
   ]
  },
  {
   "cell_type": "markdown",
   "metadata": {},
   "source": [
    "## Scope of Variables and None data type"
   ]
  },
  {
   "cell_type": "code",
   "execution_count": 27,
   "metadata": {},
   "outputs": [
    {
     "name": "stdout",
     "output_type": "stream",
     "text": [
      "15\n",
      "10\n",
      "<class 'NoneType'>\n"
     ]
    },
    {
     "data": {
      "text/plain": [
       "'None Type -->> when you do print(a)---> it becomes none datatype, where a is int but when you print a it becomes\\n                none datatype. print(type(print(a)))'"
      ]
     },
     "execution_count": 27,
     "metadata": {},
     "output_type": "execute_result"
    }
   ],
   "source": [
    "def qwerty():\n",
    "    global a # setting variable as global variable so that it can be used outside the UDF\n",
    "    a = 10 # local variable\n",
    "    b = 5\n",
    "    return(a,b) # return gets the value from a and b but doesnt print out where it keeps the output holding\n",
    "    \n",
    "def arun():\n",
    "    global x\n",
    "    x = int(input(\"enter a number: \"))\n",
    "    return(x)\n",
    "\n",
    "\n",
    "arun()\n",
    "qwerty()\n",
    "print(x+a)\n",
    "print(type(print(a))) ## none datatype example \n",
    "'''None Type -->> when you do print(a)---> it becomes none datatype,\n",
    " where a is int but when you print a it becomes\n",
    "none datatype. print(type(print(a)))'''\n",
    "\n"
   ]
  },
  {
   "cell_type": "markdown",
   "metadata": {},
   "source": [
    "### SYNC mysql in Python\n"
   ]
  },
  {
   "cell_type": "code",
   "execution_count": null,
   "metadata": {},
   "outputs": [],
   "source": [
    "# create connection\n",
    "\n",
    "import mysql.connector\n",
    "# from mysql.connector import * -- alternate way to import\n",
    "\n",
    "mydb = mysql.connector.connect(\n",
    "    host = \"localhost\",\n",
    "    user = \"root\",\n",
    "    password = \"Vada@2024\"\n",
    ")\n",
    "\n",
    "# to check if mysql is connected\n",
    "if mydb.is_connected():\n",
    "    print(\"Mysql is connected\")\n",
    "else:\n",
    "    print(\"Mysql is not connected\")\n",
    "# User information\n",
    "\n",
    "# create a database\n",
    "\n",
    "mycursor = mydb.cursor()\n",
    "\n",
    "mycursor.execute(\"show databases;\")\n",
    "\n",
    "for i in mycursor:\n",
    "    print(i)\n",
    "\n"
   ]
  },
  {
   "cell_type": "markdown",
   "metadata": {},
   "source": [
    "## GUI "
   ]
  },
  {
   "cell_type": "code",
   "execution_count": null,
   "metadata": {},
   "outputs": [],
   "source": [
    "# install pip install tk\n",
    "# 2 interfaces in python -- turtle and TK\n",
    "\n",
    "# import tkinter\n",
    "\n",
    "from tkinter import *\n",
    "\n",
    "# TK (window), Label (text), Button (button), Entry (input)\n",
    "\n",
    "window = Tk()\n",
    "\n",
    "window.mainloop()\n",
    "\n",
    "# Geometry\n",
    "\n",
    "root = Tk()\n",
    "\n",
    "root.geometry('400x400')\n"
   ]
  },
  {
   "cell_type": "markdown",
   "metadata": {},
   "source": [
    "## Functions TK inter"
   ]
  },
  {
   "cell_type": "code",
   "execution_count": null,
   "metadata": {},
   "outputs": [],
   "source": []
  }
 ],
 "metadata": {
  "kernelspec": {
   "display_name": "Python 3",
   "language": "python",
   "name": "python3"
  },
  "language_info": {
   "codemirror_mode": {
    "name": "ipython",
    "version": 3
   },
   "file_extension": ".py",
   "mimetype": "text/x-python",
   "name": "python",
   "nbconvert_exporter": "python",
   "pygments_lexer": "ipython3",
   "version": "3.9.5"
  }
 },
 "nbformat": 4,
 "nbformat_minor": 2
}
